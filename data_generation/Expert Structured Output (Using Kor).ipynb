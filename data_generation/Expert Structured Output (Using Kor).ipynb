{
 "cells": [
  {
   "cell_type": "markdown",
   "id": "f76d45d2",
   "metadata": {},
   "source": [
    "### Expert Structured Output (Using Kor)\n",
    "\n",
    "[Kor Library](https://eyurtsev.github.io/kor/nested_objects.html)\n",
    "[Eugene Twitter](https://twitter.com/veryboldbagel)\n",
    "\n",
    "For complicated data extraction you need a robust library. Kor is an awesome tool just for this.\n",
    "\n",
    "We are going to explore using Kor with a practical use case.\n",
    "\n",
    "**Why is this important?**\n",
    "LLMs are great at text output, but what if you want it to give you structured information that you won't have to parse? Getting a dictionary back makes this easy.\n",
    "\n",
    "Spoiler: Jump down to the bottom to see a bonefied business idea that you can start and manage today."
   ]
  },
  {
   "cell_type": "code",
   "execution_count": 97,
   "id": "7764b585",
   "metadata": {},
   "outputs": [],
   "source": [
    "import pandas as pd\n",
    "import requests\n",
    "import time\n",
    "import json\n",
    "from datetime import datetime\n",
    "from langchain.chat_models import ChatOpenAI\n",
    "from kor.extraction import create_extraction_chain\n",
    "from kor.nodes import Object, Text, Number\n",
    "from langchain.llms import OpenAI\n",
    "from bs4 import BeautifulSoup"
   ]
  },
  {
   "cell_type": "code",
   "execution_count": 198,
   "id": "e1728e00",
   "metadata": {},
   "outputs": [],
   "source": [
    "# It's better to do this an environment variable but putting it in plain text for clarity\n",
    "openai_api_key = 'your_api_key'"
   ]
  },
  {
   "cell_type": "code",
   "execution_count": 252,
   "id": "7f781711",
   "metadata": {
    "hide_input": false
   },
   "outputs": [],
   "source": [
    "openai_api_key = '...'"
   ]
  },
  {
   "cell_type": "code",
   "execution_count": 201,
   "id": "f0060ded",
   "metadata": {},
   "outputs": [],
   "source": [
    "llm = ChatOpenAI(\n",
    "#     model_name=\"gpt-3.5-turbo\", # Cheaper but less reliable\n",
    "    model_name=\"gpt-4\",\n",
    "    temperature=0,\n",
    "    max_tokens=2000,\n",
    "    openai_api_key=openai_api_key\n",
    ")"
   ]
  },
  {
   "cell_type": "markdown",
   "id": "1b0786a3",
   "metadata": {},
   "source": [
    "### Kor Hello World Example\n",
    "\n",
    "Create an object that holds information about the fields you'd like to extract"
   ]
  },
  {
   "cell_type": "code",
   "execution_count": 202,
   "id": "496d7d5b",
   "metadata": {},
   "outputs": [],
   "source": [
    "person_schema = Object(\n",
    "    id=\"person\",\n",
    "    description=\"Personal information\",\n",
    "    examples=[\n",
    "        (\"Alice and Bob are friends\", [{\"first_name\": \"Alice\"}, {\"first_name\": \"Bob\"}])\n",
    "    ],\n",
    "    attributes=[\n",
    "        Text(\n",
    "            id=\"first_name\",\n",
    "            description=\"The first name of a person.\",\n",
    "        )\n",
    "    ],\n",
    "    many=True,\n",
    ")"
   ]
  },
  {
   "cell_type": "markdown",
   "id": "e6ae5bd8",
   "metadata": {},
   "source": [
    "Create a chain that will extract the information and then parse it. This uses LangChain under the hood"
   ]
  },
  {
   "cell_type": "code",
   "execution_count": 203,
   "id": "00e3c457",
   "metadata": {},
   "outputs": [],
   "source": [
    "chain = create_extraction_chain(llm, person_schema)"
   ]
  },
  {
   "cell_type": "code",
   "execution_count": 204,
   "id": "109ba12a",
   "metadata": {},
   "outputs": [
    {
     "data": {
      "text/plain": [
       "{'person': [{'first_name': 'Bobby'},\n",
       "  {'first_name': 'Rachel'},\n",
       "  {'first_name': 'Joe'}]}"
      ]
     },
     "execution_count": 204,
     "metadata": {},
     "output_type": "execute_result"
    }
   ],
   "source": [
    "text = \"My name is Bobby. My sister's name is Rachel. My brother's name Joe.\"\n",
    "chain.predict_and_parse(text=(text))[\"data\"]"
   ]
  },
  {
   "cell_type": "markdown",
   "id": "210c4f98",
   "metadata": {},
   "source": [
    "Kor also facilitates returning None when the LLM doesn't find what you're looking for"
   ]
  },
  {
   "cell_type": "code",
   "execution_count": 205,
   "id": "b60e5f8d",
   "metadata": {},
   "outputs": [
    {
     "data": {
      "text/plain": [
       "{'person': []}"
      ]
     },
     "execution_count": 205,
     "metadata": {},
     "output_type": "execute_result"
    }
   ],
   "source": [
    "chain.predict_and_parse(text=(\"The dog went to the park\"))[\"data\"]"
   ]
  },
  {
   "cell_type": "markdown",
   "id": "fbe68a3d",
   "metadata": {},
   "source": [
    "### Multiple Fields\n",
    "You can pass multiple fields if you're looking for more information"
   ]
  },
  {
   "cell_type": "code",
   "execution_count": 206,
   "id": "b48aeaf3",
   "metadata": {},
   "outputs": [],
   "source": [
    "plant_schema = Object(\n",
    "    id=\"plant\",\n",
    "    description=\"Information about a plant\",\n",
    "    examples=[\n",
    "        (\n",
    "            \"Roses are red, lilies are white and a 8 out of 10.\",\n",
    "            [\n",
    "                {\"plant_type\": \"Roses\", \"color\": \"red\"},\n",
    "                {\"plant_type\": \"Lily\", \"color\": \"white\", \"rating\" : 8},\n",
    "            ],\n",
    "        )\n",
    "    ],\n",
    "    attributes=[\n",
    "        Text(\n",
    "            id=\"plant_type\",\n",
    "            description=\"The common name of the plant.\"\n",
    "        ),\n",
    "        Text(\n",
    "            id=\"color\",\n",
    "            description=\"The color of the plant\"\n",
    "        ),\n",
    "        Number(\n",
    "            id=\"rating\",\n",
    "            description=\"The rating of the plant.\"\n",
    "        )\n",
    "    ],\n",
    "    many=True,\n",
    ")"
   ]
  },
  {
   "cell_type": "code",
   "execution_count": 207,
   "id": "d662e926",
   "metadata": {},
   "outputs": [
    {
     "data": {
      "text/plain": [
       "{'plant': [{'plant_type': 'Palm tree', 'color': 'brown', 'rating': '6.0'}]}"
      ]
     },
     "execution_count": 207,
     "metadata": {},
     "output_type": "execute_result"
    }
   ],
   "source": [
    "text=\"Palm trees are brown and a 6 rating\"\n",
    "\n",
    "chain = create_extraction_chain(llm, plant_schema)\n",
    "chain.predict_and_parse(text=text)['data']"
   ]
  },
  {
   "cell_type": "markdown",
   "id": "87e0a551",
   "metadata": {},
   "source": [
    "### Working With Lists\n",
    "\n",
    "You can also extract lists as well.\n",
    "\n",
    "Note: Check out how I have a nested object. The 'parts' object is in the 'cars_schema'"
   ]
  },
  {
   "cell_type": "code",
   "execution_count": 208,
   "id": "f51a975f",
   "metadata": {},
   "outputs": [],
   "source": [
    "parts = Object(\n",
    "    id=\"parts\",\n",
    "    description=\"A single part of a car\",\n",
    "    attributes=[\n",
    "        Text(id=\"part\", description=\"The name of the part\")\n",
    "    ],\n",
    "    examples=[\n",
    "        (\n",
    "            \"the jeep has wheels and windows\",\n",
    "            [\n",
    "                {\"part\": \"wheel\"},\n",
    "                {\"part\": \"window\"}\n",
    "            ],\n",
    "        )\n",
    "    ],\n",
    "    many=True,  # <-- PLEASE NOTE THIS CHANGE\n",
    ")\n",
    "\n",
    "cars_schema = Object(\n",
    "    id=\"car\",\n",
    "    description=\"Information about a car\",\n",
    "    examples=[\n",
    "        (\n",
    "            \"the bmw is red and has an engine and steering wheel\",\n",
    "            [\n",
    "                {\"type\": \"BMW\", \"color\": \"red\", \"parts\" : [\"engine\", \"steering wheel\"]}\n",
    "            ],\n",
    "        )\n",
    "    ],\n",
    "    attributes=[\n",
    "        Text(\n",
    "            id=\"type\",\n",
    "            description=\"The make or brand of the car\"\n",
    "        ),\n",
    "        Text(\n",
    "            id=\"color\",\n",
    "            description=\"The color of the car\"\n",
    "        ),\n",
    "        parts\n",
    "    ],\n",
    "    many=True,\n",
    ")"
   ]
  },
  {
   "cell_type": "code",
   "execution_count": 210,
   "id": "ca4d0cdb",
   "metadata": {},
   "outputs": [
    {
     "data": {
      "text/plain": [
       "{'car': [{'type': 'jeep',\n",
       "   'color': 'blue',\n",
       "   'parts': [{'part': 'wheel'}, {'part': 'window'}, {'part': 'rim'}]}]}"
      ]
     },
     "execution_count": 210,
     "metadata": {},
     "output_type": "execute_result"
    }
   ],
   "source": [
    "# To do nested objects you need to specify encoder_or_encoder_class=\"json\"\n",
    "text = \"The blue jeep has wheels, windows, rims\"\n",
    "\n",
    "chain = create_extraction_chain(llm, cars_schema, encoder_or_encoder_class=\"json\")\n",
    "chain.predict_and_parse(text=text)['data']"
   ]
  },
  {
   "cell_type": "markdown",
   "id": "bcdac769",
   "metadata": {},
   "source": [
    "View the prompt that was sent over"
   ]
  },
  {
   "cell_type": "code",
   "execution_count": 211,
   "id": "544e11fd",
   "metadata": {},
   "outputs": [
    {
     "name": "stdout",
     "output_type": "stream",
     "text": [
      "Your goal is to extract structured information from the user's input that matches the form described below. When extracting information please make sure it matches the type information exactly. Do not add any attributes that do not appear in the schema shown below.\n",
      "\n",
      "```TypeScript\n",
      "\n",
      "car: Array<{ // Information about a car\n",
      " type: string // The make or brand of the car\n",
      " color: string // The color of the car\n",
      " parts: Array<{ // A single part of a car\n",
      "  part: string // The name of the part\n",
      " }>\n",
      "}>\n",
      "```\n",
      "\n",
      "\n",
      "Please output the extracted information in JSON format. Do not output anything except for the extracted information. Do not add any clarifying information. Do not add any fields that are not in the schema. If the text contains attributes that do not appear in the schema, please ignore them. All output must be in JSON format and follow the schema specified above. Wrap the JSON in <json> tags.\n",
      "\n",
      "Input: the bmw is red and has an engine and steering wheel\n",
      "Output: <json>{\"car\": [{\"type\": \"BMW\", \"color\": \"red\", \"parts\": [\"engine\", \"steering wheel\"]}]}</json>\n",
      "Input: the jeep has wheels and windows\n",
      "Output: <json>{\"car\": [{\"parts\": [{\"part\": \"wheel\"}, {\"part\": \"window\"}]}]}</json>\n",
      "Input: The blue jeep has wheels, windows, rims\n",
      "Output:\n"
     ]
    }
   ],
   "source": [
    "prompt = chain.prompt.format_prompt(text=text).to_string()\n",
    "\n",
    "print(prompt)"
   ]
  },
  {
   "cell_type": "markdown",
   "id": "75568586",
   "metadata": {},
   "source": [
    "## Opening Attributes - Real World Example\n",
    "\n",
    "[Opening Attributes](https://twitter.com/GregKamradt/status/1643027796850253824) (my sample project for this application)\n",
    "\n",
    "If anyone wants to strategize on this project DM me on twitter"
   ]
  },
  {
   "cell_type": "code",
   "execution_count": 212,
   "id": "0777cb73",
   "metadata": {},
   "outputs": [],
   "source": [
    "llm = ChatOpenAI(\n",
    "    # model_name=\"gpt-3.5-turbo\",\n",
    "    model_name=\"gpt-4\",\n",
    "    temperature=0,\n",
    "    max_tokens=2000,\n",
    "    openai_api_key=openai_api_key\n",
    ")"
   ]
  },
  {
   "cell_type": "markdown",
   "id": "4932a241",
   "metadata": {},
   "source": [
    "We are going to be pulling jobs from Greenhouse. No API key is needed."
   ]
  },
  {
   "cell_type": "code",
   "execution_count": 215,
   "id": "3cb6525f",
   "metadata": {},
   "outputs": [],
   "source": [
    "def pull_from_greenhouse(board_token):\n",
    "    # If doing this in production, make sure you do retries and backoffs\n",
    "    \n",
    "    # Get your URL ready to accept a parameter\n",
    "    url = f'https://boards-api.greenhouse.io/v1/boards/{board_token}/jobs?content=true'\n",
    "    \n",
    "    try:\n",
    "        response = requests.get(url)\n",
    "    except:\n",
    "        # In case it doesn't work\n",
    "        print (\"Whoops, error\")\n",
    "        return\n",
    "        \n",
    "    status_code = response.status_code\n",
    "    \n",
    "    jobs = response.json()['jobs']\n",
    "    \n",
    "    print (f\"{board_token}: {status_code}, Found {len(jobs)} jobs\")\n",
    "    \n",
    "    return jobs"
   ]
  },
  {
   "cell_type": "markdown",
   "id": "636e4e8b",
   "metadata": {},
   "source": [
    "Let's try it out for [Okta](https://www.okta.com/)"
   ]
  },
  {
   "cell_type": "code",
   "execution_count": 216,
   "id": "d2b794b9",
   "metadata": {},
   "outputs": [
    {
     "name": "stdout",
     "output_type": "stream",
     "text": [
      "okta: 200, Found 143 jobs\n"
     ]
    }
   ],
   "source": [
    "jobs = pull_from_greenhouse(\"okta\")"
   ]
  },
  {
   "cell_type": "markdown",
   "id": "10c8651d",
   "metadata": {},
   "source": [
    "Let's look at a sample job with it's raw dictionary"
   ]
  },
  {
   "cell_type": "code",
   "execution_count": 122,
   "id": "1a458cb9",
   "metadata": {},
   "outputs": [],
   "source": [
    "# Keep in mind that my job_ids will likely change when you run this depending on the postings of the company\n",
    "job_id = 1"
   ]
  },
  {
   "cell_type": "code",
   "execution_count": 114,
   "id": "b2b394e3",
   "metadata": {},
   "outputs": [
    {
     "name": "stdout",
     "output_type": "stream",
     "text": [
      "Preview:\n",
      "\n",
      "{\"absolute_url\": \"https://www.okta.com/company/careers/opportunity/4858786?gh_jid=4858786\", \"data_compliance\": [{\"type\": \"gdpr\", \"requires_consent\": false, \"requires_processing_consent\": false, \"requires_retention_consent\": false, \"retention_period\": null}], \"education\": \"education_optional\", \"internal_job_id\": 2474271, \"location\": {\"name\": \"United States\"}, \"metadata\": null, \"id\": 4858786, \"updat\n"
     ]
    }
   ],
   "source": [
    "print (\"Preview:\\n\")\n",
    "print (json.dumps(jobs[job_id])[:400])"
   ]
  },
  {
   "cell_type": "markdown",
   "id": "5662c3cb",
   "metadata": {},
   "source": [
    "Let's clean this up a bit"
   ]
  },
  {
   "cell_type": "code",
   "execution_count": 217,
   "id": "ce0ee96a",
   "metadata": {},
   "outputs": [],
   "source": [
    "# I parsed through an output to create the function below\n",
    "def describeJob(job_description):\n",
    "    print(f\"Job ID: {job_description['id']}\")\n",
    "    print(f\"Link: {job_description['absolute_url']}\")\n",
    "    print(f\"Updated At: {datetime.fromisoformat(job_description['updated_at']).strftime('%B %-d, %Y')}\")\n",
    "    print(f\"Title: {job_description['title']}\\n\")\n",
    "    print(f\"Content:\\n{job_description['content'][:550]}\")"
   ]
  },
  {
   "cell_type": "code",
   "execution_count": 240,
   "id": "12a43cea",
   "metadata": {},
   "outputs": [
    {
     "name": "stdout",
     "output_type": "stream",
     "text": [
      "Job ID: 4982726\n",
      "Link: https://www.okta.com/company/careers/opportunity/4982726?gh_jid=4982726\n",
      "Updated At: April 10, 2023\n",
      "Title: Staff Software Engineer \n",
      "\n",
      "Content:\n",
      "&lt;div class=&quot;content-intro&quot;&gt;&lt;p&gt;&lt;span style=&quot;color: #000000;&quot;&gt;&lt;strong&gt;Get to know Okta&lt;/strong&gt;&lt;/span&gt;&lt;/p&gt;\n",
      "&lt;p&gt;&lt;span style=&quot;color: #000000;&quot;&gt;&lt;br&gt;&lt;/span&gt;Okta is The World’s Identity Company. We free everyone to safely use any technology—anywhere, on any device or app. Our Workforce and Customer Identity Clouds enable secure yet flexible access, authentication, and automation that transforms how people move through the digital world, putting Identity at t\n"
     ]
    }
   ],
   "source": [
    "# Note: I'm using a hard coded job id below. You'll need to switch this if this job ever changes\n",
    "# and it most definitely will!\n",
    "job_id = 4982726\n",
    "\n",
    "job_description = [item for item in jobs if item['id'] == job_id][0]\n",
    "    \n",
    "describeJob(job_description)"
   ]
  },
  {
   "cell_type": "markdown",
   "id": "e2a3a009",
   "metadata": {},
   "source": [
    "I want to convert the html to text, we'll use BeautifulSoup to do this. There are multiple methods you could choose from. Pick what's best for you."
   ]
  },
  {
   "cell_type": "code",
   "execution_count": 241,
   "id": "bd3e15c4",
   "metadata": {},
   "outputs": [],
   "source": [
    "soup = BeautifulSoup(job_description['content'], 'html.parser')"
   ]
  },
  {
   "cell_type": "code",
   "execution_count": 242,
   "id": "5a991fa4",
   "metadata": {},
   "outputs": [
    {
     "name": "stdout",
     "output_type": "stream",
     "text": [
      "<div class=\"content-intro\"><p><span style=\"color: #000000;\"><strong>Get to know Okta</strong></span></p>\n",
      "<p><span style=\"color: #000000;\"><br></span>Okta is The World’s Identity Company. We free everyone to safely use any technology—anywhere, on any device or app. Our Workforce and Customer Identity Clouds enable secure yet flexible access, authentication, and automation that transforms how people move through the digital world, putting Identity at the heart of business security and growth.&nbsp;<br><br>At Okta, we celebrate a variety of perspectives and experiences. We are not looking for som\n"
     ]
    }
   ],
   "source": [
    "text = soup.get_text()\n",
    "print (text[:600])"
   ]
  },
  {
   "cell_type": "markdown",
   "id": "8f673bc2",
   "metadata": {},
   "source": [
    "Let's create a Kor object that will look for tools. This is the meat and potatoes of the application"
   ]
  },
  {
   "cell_type": "code",
   "execution_count": 243,
   "id": "ee906edf",
   "metadata": {},
   "outputs": [],
   "source": [
    "tools = Object(\n",
    "    id=\"tools\",\n",
    "    description=\"\"\"\n",
    "        A tool, application, or other company that is listed in a job description.\n",
    "        Analytics, eCommerce and GTM are not tools\n",
    "    \"\"\",\n",
    "    attributes=[\n",
    "        Text(\n",
    "            id=\"tool\",\n",
    "            description=\"The name of a tool or company\"\n",
    "        )\n",
    "    ],\n",
    "    examples=[\n",
    "        (\n",
    "            \"Experience in working with Netsuite, SQL, or Looker a plus.\",\n",
    "            [\n",
    "                {\"tool\": \"Netsuite\"},\n",
    "                {\"tool\": \"Looker\"},\n",
    "            ],\n",
    "        ),\n",
    "        (\n",
    "           \"Experience with Microsoft Excel\",\n",
    "            [\n",
    "               {\"tool\": \"Microsoft Excel\"}\n",
    "            ] \n",
    "        ),\n",
    "        (\n",
    "           \"You must know AWS to do well in the job\",\n",
    "            [\n",
    "               {\"tool\": \"AWS\"}\n",
    "            ] \n",
    "        ),\n",
    "        (\n",
    "           \"Troubleshooting customer issues and debugging from logs (Splunk, Syslogs, etc.) \",\n",
    "            [\n",
    "               {\"tool\": \"Splunk\"},\n",
    "            ] \n",
    "        )\n",
    "    ],\n",
    "    many=True,\n",
    ")"
   ]
  },
  {
   "cell_type": "code",
   "execution_count": 244,
   "id": "fd0074a6",
   "metadata": {},
   "outputs": [],
   "source": [
    "chain = create_extraction_chain(llm, tools)"
   ]
  },
  {
   "cell_type": "code",
   "execution_count": 245,
   "id": "f8015920",
   "metadata": {},
   "outputs": [
    {
     "data": {
      "text/plain": [
       "{'tools': [{'tool': 'Java'},\n",
       "  {'tool': 'Hibernate'},\n",
       "  {'tool': 'Spring Boot'},\n",
       "  {'tool': 'SQL'},\n",
       "  {'tool': 'ElasticSearch'},\n",
       "  {'tool': 'Docker'},\n",
       "  {'tool': 'Kubernetes'},\n",
       "  {'tool': 'AWS'},\n",
       "  {'tool': 'GCP'}]}"
      ]
     },
     "execution_count": 245,
     "metadata": {},
     "output_type": "execute_result"
    }
   ],
   "source": [
    "chain.predict_and_parse(text=text)[\"data\"]"
   ]
  },
  {
   "cell_type": "markdown",
   "id": "09a7e59d",
   "metadata": {},
   "source": [
    "### Salary\n",
    "\n",
    "Let's grab salary information while we are at it.\n",
    "\n",
    "Not all jobs will list this information. If they do, it's rarely consistent across jobs. A great use case for LLMs to catch this information!"
   ]
  },
  {
   "cell_type": "code",
   "execution_count": 246,
   "id": "8e93e9af",
   "metadata": {},
   "outputs": [],
   "source": [
    "salary_range = Object(\n",
    "    id=\"salary_range\",\n",
    "    description=\"\"\"\n",
    "        The range of salary offered for a job mentioned in a job description\n",
    "    \"\"\",\n",
    "    attributes=[\n",
    "        Number(\n",
    "            id=\"low_end\",\n",
    "            description=\"The low end of a salary range\"\n",
    "        ),\n",
    "        Number(\n",
    "            id=\"high_end\",\n",
    "            description=\"The high end of a salary range\"\n",
    "        )\n",
    "    ],\n",
    "    examples=[\n",
    "        (\n",
    "            \"This position will make between $140 thousand and $230,000.00\",\n",
    "            [\n",
    "                {\"low_end\": 140000, \"high_end\": 230000},\n",
    "            ]\n",
    "        )\n",
    "    ]\n",
    ")"
   ]
  },
  {
   "cell_type": "code",
   "execution_count": 247,
   "id": "0d0045ba",
   "metadata": {},
   "outputs": [
    {
     "name": "stdout",
     "output_type": "stream",
     "text": [
      "cruise: 200, Found 229 jobs\n"
     ]
    }
   ],
   "source": [
    "jobs = pull_from_greenhouse(\"cruise\")"
   ]
  },
  {
   "cell_type": "code",
   "execution_count": 248,
   "id": "9f514a5e",
   "metadata": {},
   "outputs": [
    {
     "name": "stdout",
     "output_type": "stream",
     "text": [
      "Job ID: 4858414\n",
      "Link: https://boards.greenhouse.io/cruise/jobs/4858414?gh_jid=4858414\n",
      "Updated At: April 10, 2023\n",
      "Title: Senior Data Center Technician\n",
      "\n",
      "Content:\n",
      "&lt;div class=&quot;content-intro&quot;&gt;&lt;p&gt;&lt;span style=&quot;font-weight: 400;&quot;&gt;We&#39;re Cruise, a self-driving service designed for the cities we love.&lt;/span&gt;&lt;/p&gt;\n",
      "&lt;p&gt;&lt;span style=&quot;font-weight: 400;&quot;&gt;We’re building the world’s most advanced self-driving vehicles to safely connect people to the places, things, and experiences they care about. We believe self-driving vehicles will help save lives, reshape cities, give back time in transit, and restore freedom of movement for many.&lt;/span&gt;\n"
     ]
    }
   ],
   "source": [
    "job_id = 4858414\n",
    "\n",
    "job_description = [item for item in jobs if item['id'] == job_id][0]\n",
    "    \n",
    "describeJob(job_description)\n",
    "\n",
    "soup = BeautifulSoup(job_description['content'], 'html.parser')\n",
    "text = soup.get_text()"
   ]
  },
  {
   "cell_type": "code",
   "execution_count": 249,
   "id": "bb307900",
   "metadata": {},
   "outputs": [
    {
     "data": {
      "text/plain": [
       "{'salary_range': [{'low_end': '112300', 'high_end': '165000'}]}"
      ]
     },
     "execution_count": 249,
     "metadata": {},
     "output_type": "execute_result"
    }
   ],
   "source": [
    "r = create_extraction_chain(llm, salary_range)\n",
    "r.predict_and_parse(text=text)[\"data\"]"
   ]
  },
  {
   "cell_type": "markdown",
   "id": "d25f76f9",
   "metadata": {},
   "source": [
    "> The salary range for this position is $112,300 - 165,000. Compensation will vary depending on location, job-related knowledge, skills, and experience. You may also be offered a bonus, restricted stock units, and benefits. These ranges are subject to change.\n",
    "\n",
    "Awesome!"
   ]
  },
  {
   "cell_type": "markdown",
   "id": "6855ab40",
   "metadata": {},
   "source": [
    "[OpenAI GPT4 Pricing](https://help.openai.com/en/articles/7127956-how-much-does-gpt-4-cost)"
   ]
  },
  {
   "cell_type": "code",
   "execution_count": 250,
   "id": "2fbe4e66",
   "metadata": {},
   "outputs": [
    {
     "name": "stdout",
     "output_type": "stream",
     "text": [
      "Your goal is to extract structured information from the user's input that matches the form described below. When extracting information please make sure it matches the type information exactly. Do not add any attributes that do not appear in the schema shown below.\n",
      "\n",
      "```TypeScript\n",
      "\n",
      "tools: Array<{ // \n",
      "        A tool, application, or other company that is listed in a job description.\n",
      "        Analytics, eCommerce and GTM are not tools\n",
      "    \n",
      " tool: string // The name of a tool or company\n",
      "}>\n",
      "```\n",
      "\n",
      "\n",
      "Please output the extracted information in CSV format in Excel dialect. Please use a | as the delimiter. \n",
      " Do NOT add any clarifying information. Output MUST follow the schema above. Do NOT add any additional columns that do not appear in the schema.\n",
      "\n",
      "Input: Experience in working with Netsuite, SQL, or Looker a plus.\n",
      "Output: tool\n",
      "Netsuite\n",
      "Looker\n",
      "\n",
      "Input: Experience with Microsoft Excel\n",
      "Output: tool\n",
      "Microsoft Excel\n",
      "\n",
      "Input: You must know AWS to do well in the job\n",
      "Output: tool\n",
      "AWS\n",
      "\n",
      "Input: Troubleshooting customer issues and debugging from logs (Splunk, Syslogs, etc.) \n",
      "Output: tool\n",
      "Splunk\n",
      "\n",
      "Input: <div class=\"content-intro\"><p><span style=\"font-weight: 400;\">We're Cruise, a self-driving service designed for the cities we love.</span></p>\n",
      "<p><span style=\"font-weight: 400;\">We’re building the world’s most advanced self-driving vehicles to safely connect people to the places, things, and experiences they care about. We believe self-driving vehicles will help save lives, reshape cities, give back time in transit, and restore freedom of movement for many.</span></p>\n",
      "<p><span style=\"font-weight: 400;\">In our cars, you’re free to be yourself. It’s the same here at Cruise. We’re creating a culture that values the experiences and contributions of all of the unique individuals who collectively make up Cruise, so that every employee can do their best work.&nbsp;</span></p>\n",
      "<p><span style=\"font-weight: 400;\">Cruise is committed to building a diverse, equitable, and inclusive environment, both in our workplace and in our products. If you are looking to play a part in making a positive impact in the world by advancing the revolutionary work of self-driving cars, come join us. Even if you might not meet every requirement, we strongly encourage you to apply. You might just be the right candidate for us. </span></p></div><p><span>We are looking for a highly skilled DC Technician to ensure that our data center and server room infrastructure performs effectively and aligns with industry standards. In this role, your duties will include installing and upgrading system components, as well as providing outstanding network support! You will also be required to perform maintenance and repairs on servers, network equipment and asset management. Leading initiatives that up-level DC Operations program to a DCOS-5 optimized level will be a critical component of this role!</span></p><p><span>To ensure success, you should exhibit extensive experience in ensuring positive efficiency of infrastructure. Outstanding Data Center Technicians take proactive measures to prevent loss of data and damage to networks. Track record of leading technical projects as a directly responsible individual or critical supporting resource.</span></p><p></p><p><b><b>What you’ll be doing:</b><span>&nbsp;</span></b></p><p><br><span>We perform preventative maintenance servers and network equipment. Supervise and respond to server and network issues. Running hardware diagnostics and replacing failing parts in a timely manner. Participate in infrastructure buildout projects. Upgrade internal system components, such as CPUs, memory, hard drives, and network cables. Detailing processes and keeping event logs. Own infrastructure asset audits and inventory management. Identify, document, and deliver data center operations, service level objectives, agreements and indicators.</span><br>&nbsp;</p><p><b><b>What you must have:</b></b></p><ul><li><p><span>Experience working in Data Center Operations for 5+ years</span></p></li><li><p><span>CompTIA Server Plus, CompTIA Network+, or CCNA certification or Equivalent work experience</span></p></li><li><p><span>Data center technicians stand and crawl, duck, kneel, lift and move up to 40 pounds over short distances.</span></p></li><li><p><span>In-depth knowledge of data center environments, servers, and infrastructure</span></p></li><li><p><span>Experience installing, monitoring, and maintaining data center equipment</span></p></li><li><p><span>Outstanding ability to work as part of a team, provide Data Center Operations support, and resolve errors</span></p></li><li><p><span>Ability to keep up with advancements in data center infrastructure and technologies</span></p></li><li><p><span>Proficiency in detailing work processes</span></p></li><li><p><span>We appreciate outstanding interpersonal skills</span></p></li><li><p><span>Willingness to respond to network and server errors after hours</span></p></li><li><p><span>Mentoring colleagues and maturing the program</span></p></li></ul><p></p><p><b><b>Bonus points! </b></b></p><ul><li><p><span>Experience in data center physical infrastructure design and build</span></p></li><li><p><span>Working knowledge of modern data center infrastructure management (DCIM)</span></p></li><li><p><span>Understanding of electrical and cooling systems with respect to data center environment</span></p></li><li><p><span>Prior experience with vendor management</span></p></li><li><p><span>Effective leadership skills to drive standardization and efficiency across the team&nbsp;</span></p></li><li><p><span>RCDD Certification Preferred</span></p></li></ul><p></p><p><i>The salary range for this position is <span>$112,300 - 165,000</span>. Compensation will vary depending on location, job-related knowledge, skills, and experience. You may also be offered a bonus, restricted stock units, and benefits. These ranges are subject to change.</i></p><div class=\"content-conclusion\"><h1><strong>Why Cruise?</strong></h1>\n",
      "<ul>\n",
      "<li>\n",
      "<h2><strong>Our benefits are here to support the whole you:</strong></h2>\n",
      "</li>\n",
      "</ul>\n",
      "<ul>\n",
      "<ul>\n",
      "<li style=\"font-weight: 400;\"><span style=\"font-weight: 400;\">Competitive salary and benefits&nbsp;</span></li>\n",
      "<li style=\"font-weight: 400;\"><span style=\"font-weight: 400;\">401(k) Cruise matching program&nbsp;</span></li>\n",
      "<li style=\"font-weight: 400;\"><span style=\"font-weight: 400;\">Medical / dental / vision, AD+D and Life</span></li>\n",
      "<li style=\"font-weight: 400;\"><span style=\"font-weight: 400;\">One Medical membership</span></li>\n",
      "<li style=\"font-weight: 400;\"><span style=\"font-weight: 400;\">Subsidized mental health benefits</span></li>\n",
      "<li style=\"font-weight: 400;\"><span style=\"font-weight: 400;\">Flexible vacation and company paid holidays</span></li>\n",
      "<li style=\"font-weight: 400;\"><span style=\"font-weight: 400;\">Healthy meals and snacks provided for non-remote employees</span></li>\n",
      "<li style=\"font-weight: 400;\"><span style=\"font-weight: 400;\">Paid parental, jury duty, bereavement, family care</span><span style=\"font-weight: 400;\">,</span><span style=\"font-weight: 400;\"> and medical leave</span></li>\n",
      "<li style=\"font-weight: 400;\"><span style=\"font-weight: 400;\">Fertility Benefits</span></li>\n",
      "<li style=\"font-weight: 400;\"><span style=\"font-weight: 400;\">Dependent Care Flexible Spending Account, subsidized by Cruise</span></li>\n",
      "<li style=\"font-weight: 400;\"><span style=\"font-weight: 400;\">Flexible Spending Account&nbsp;</span></li>\n",
      "<li style=\"font-weight: 400;\"><span style=\"font-weight: 400;\">Monthly wellness stipend</span></li>\n",
      "<li style=\"font-weight: 400;\"><span style=\"font-weight: 400;\">Pre-tax Commuter Benefit Plan for non-remote employees</span></li>\n",
      "<li style=\"font-weight: 400;\"><span style=\"font-weight: 400;\">CruiseFlex, a working policy for US-Based Cruisers, lets you and your manager find the working style that’s best for you, whether it’s primarily in-person, primarily at home, or a combination of home and in-office time. - </span><a href=\"https://getcruise.com/news/blog/2022/cruiseflex-our-approach-to-flexible-work/\"><span style=\"font-weight: 400;\">learn more about CruiseFlex here</span></a></li>\n",
      "</ul>\n",
      "</ul>\n",
      "<ul>\n",
      "<li>\n",
      "<h2><strong>We’re Integrated</strong></h2>\n",
      "</li>\n",
      "</ul>\n",
      "<ul>\n",
      "<ul>\n",
      "<li style=\"font-weight: 400;\">\n",
      "<p><span style=\"font-weight: 400;\">Through our</span> partnerships <span style=\"font-weight: 400;\">with General Motors and Honda, we are the only self-driving company with fully integrated manufacturing at scale.</span></p>\n",
      "</li>\n",
      "</ul>\n",
      "</ul>\n",
      "<ul>\n",
      "<li>\n",
      "<h2><strong>We’re Funded</strong></h2>\n",
      "</li>\n",
      "</ul>\n",
      "<ul>\n",
      "<ul>\n",
      "<li style=\"font-weight: 400;\"><span style=\"font-weight: 400;\">GM, Honda, Microsoft, T. Rowe Price, and Walmart have invested billions in Cruise. Their backing for our technology demonstrates their confidence in our progress, team, and vision and makes us one of the leading autonomous vehicle organizations in the industry. Our deep resources greatly accelerate our operating speed.</span></li>\n",
      "</ul>\n",
      "</ul>\n",
      "<ul>\n",
      "<li>\n",
      "<h2><strong>We’re Independent</strong></h2>\n",
      "</li>\n",
      "</ul>\n",
      "<ul>\n",
      "<ul>\n",
      "<li style=\"font-weight: 400;\"><span style=\"font-weight: 400;\">We have our own governance, board of directors, equity, and investors. Our independence allows us to not just work on the edge of technology, but also define it.</span></li>\n",
      "</ul>\n",
      "</ul>\n",
      "<ul>\n",
      "<li>\n",
      "<h2><strong>We’re Vested</strong></h2>\n",
      "</li>\n",
      "</ul>\n",
      "<ul>\n",
      "<ul>\n",
      "<li style=\"font-weight: 400;\"><span style=\"font-weight: 400;\">You won’t just own your work here, you’ll have the potential to own equity in Cruise, too. We are competing in a market that is projected to grow exponentially, which gives our company valuation room to grow. We offer a new kind of equity program called Recurring Liquidity Opportunity (RLO), which combines IPO-like liquidity with the stability of remaining private - </span><a href=\"https://getcruise.com/news/blog/2022/a-new-kind-of-equity-program/\"><span style=\"font-weight: 400;\">learn more about RLO here</span></a></li>\n",
      "</ul>\n",
      "</ul>\n",
      "<p><em><span style=\"font-weight: 400;\">Cruise LLC is an equal opportunity employer. We strive to create a supportive and inclusive workplace where contributions are valued and celebrated, and our employees thrive by being themselves and are inspired to do the best work of their lives. We seek applicants of all backgrounds and identities, across race, color, ethnicity, national origin or ancestry, citizenship, religion, sex, sexual orientation, gender identity or expression, veteran status, marital status, pregnancy or parental status, or disability. Applicants will not be discriminated against based on these or other protected categories or social identities. Cruise will consider for employment qualified applicants with arrest and conviction records, in accordance with applicable laws.</span></em></p>\n",
      "<p><em><span style=\"font-weight: 400;\">Cruise is committed to the full inclusion of all applicants. If reasonable accommodation is needed to participate in the job application or interview process please let our recruiting team know or email </span></em><a href=\"mailto:HR@getcruise.com\"><em><span style=\"font-weight: 400;\">HR@getcruise.com</span></em></a><em><span style=\"font-weight: 400;\">.</span></em></p>\n",
      "<p><em><span style=\"font-weight: 400;\">We proactively work to design hiring processes that promote equity and inclusion while mitigating bias. To help us track the effectiveness and inclusivity of our recruiting efforts, please consider answering the following demographic questions. Answering these questions is entirely voluntary. Your answers to these questions will not be shared with the hiring decision makers and will not impact the hiring decision in any way. Instead, Cruise will use this information not only to comply with any government reporting obligations but also to track our progress toward meeting our diversity, equity, inclusion, and belonging objectives.</span></em></p>\n",
      "<p><strong><em>Note to Recruitment Agencies: </em></strong><em><span style=\"font-weight: 400;\">Cruise does not accept unsolicited agency resumes. Furthermore, Cruise does not pay placement fees for candidates submitted by any agency other than its approved partners.&nbsp;</span></em></p></div>\n",
      "Output:\n"
     ]
    }
   ],
   "source": [
    "prompt = chain.prompt.format_prompt(text=text).to_string()\n",
    "print (prompt)"
   ]
  },
  {
   "cell_type": "code",
   "execution_count": 251,
   "id": "60153f51",
   "metadata": {},
   "outputs": [
    {
     "name": "stdout",
     "output_type": "stream",
     "text": [
      "Running this prompt will cost: $0.09\n"
     ]
    }
   ],
   "source": [
    "num_tokens = llm.get_num_tokens(prompt)\n",
    "\n",
    "# Pricing as of 2023-4-11\n",
    "gpt4_pricing_per_1k_tokens = .03\n",
    "\n",
    "cost = (num_tokens / 1000) * gpt4_pricing_per_1k_tokens\n",
    "\n",
    "print (f\"Running this prompt will cost: ${cost:.2f}\")"
   ]
  },
  {
   "cell_type": "markdown",
   "id": "b770a9e8",
   "metadata": {},
   "source": [
    "To do:\n",
    "\n",
    "* Reduce amount of HTML and low-signal text that gets put into the prompt\n",
    "* Gather list of 1000s of companies\n",
    "* Run through most jobs (You'll likely start to see duplicate information after the first 10-15 jobs per department)\n",
    "* Store results\n",
    "* Snapshot daily as you look for new jobs\n",
    "* Follow [Greg](https://twitter.com/GregKamradt) on Twitter for more tools or if you want to chat about this project\n",
    "* Read the user feedback below for what else to build out with this project (I reached out to everyone who signed up on twitter)\n",
    "\n",
    "\n",
    "### Business idea: Job Data As A Service\n",
    "\n",
    "Start a data service that collects information about company's jobs. This can be sold to investors looking for an edge.\n",
    "\n",
    "After posting [this tweet](https://twitter.com/GregKamradt/status/1643027796850253824) there were 80 people that signed up for the trial. I emailed all of them and most were job seekers looking for companies that used the tech they specialized in.\n",
    "\n",
    "The more interesting use case were sales teams + investors.\n",
    "\n",
    "Interesting Investor User Feedback:\n",
    "\n",
    "> Hey Gregory, thanks for reaching out. <br><br>\n",
    "I always thought that job posts were a gold mine of information, and often suggest identifying targets based on these (go look at relevant job posts for companies that might want to work with you). Secondly, I also automatically ping BuiltWith from our CRM and send that to OpenAI and have a summarized tech stack created - so I see the benefit of having this as an investor. <br><br>\n",
    "For me personally, I like to get as much data as possible about a company. Would love to see job post cadence, type of jobs they post and when, notable keywords/phrases used, tech stack (which you have), and any other information we can glean from the job posts (sometimes they have the title of who you'll report to, etc.). <br><br>\n",
    "For sales people, I think finer searches, maybe even in natural language if possible - such as \"search for companies who posted a data science related job for the first time\" - would be powerful.\n",
    "\n",
    "If you do this, let me know! I'd love to hear how it goes."
   ]
  }
 ],
 "metadata": {
  "kernelspec": {
   "display_name": "Python 3 (ipykernel)",
   "language": "python",
   "name": "python3"
  },
  "language_info": {
   "codemirror_mode": {
    "name": "ipython",
    "version": 3
   },
   "file_extension": ".py",
   "mimetype": "text/x-python",
   "name": "python",
   "nbconvert_exporter": "python",
   "pygments_lexer": "ipython3",
   "version": "3.9.13"
  }
 },
 "nbformat": 4,
 "nbformat_minor": 5
}
